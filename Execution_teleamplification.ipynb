{
 "cells": [
  {
   "cell_type": "code",
   "execution_count": 1,
   "id": "957246fd-b681-4804-9b76-2e2837ac0832",
   "metadata": {},
   "outputs": [],
   "source": [
    "# (C) Copyright Aaron Goldberg, 2023.\n",
    "#\n",
    "# This code is licensed under the Apache License, Version 2.0. You may\n",
    "# obtain a copy of this license in the LICENSE.txt file in the root directory\n",
    "# of this source tree or at http://www.apache.org/licenses/LICENSE-2.0.\n",
    "#\n",
    "# Any modifications or derivative works of this code must retain this\n",
    "# copyright notice, and modified files need to carry a notice indicating\n",
    "# that they have been altered from the originals."
   ]
  },
  {
   "cell_type": "code",
   "execution_count": 2,
   "id": "8a146d6a-94c6-47d5-8365-8ebe2dc8fb68",
   "metadata": {},
   "outputs": [
    {
     "name": "stderr",
     "output_type": "stream",
     "text": [
      "2023-05-23 19:53:44.617224: I tensorflow/core/platform/cpu_feature_guard.cc:193] This TensorFlow binary is optimized with oneAPI Deep Neural Network Library (oneDNN) to use the following CPU instructions in performance-critical operations:  AVX2 AVX512F FMA\n",
      "To enable them in other operations, rebuild TensorFlow with the appropriate compiler flags.\n"
     ]
    }
   ],
   "source": [
    "# Implementing idea from https://doi.org/10.1103/PhysRevLett.128.160501. Let's use n=2, amplify a squeezed state, and vary the gain coefficient by varying the beam splitter transmissivity. Other n will take longer\n",
    "import strawberryfields as sf\n",
    "from strawberryfields.ops import Sgate, Rgate, BSgate, MeasureFock\n",
    "from strawberryfields.tdm import borealis_gbs, full_compile, get_mode_indices\n",
    "import numpy as np"
   ]
  },
  {
   "cell_type": "code",
   "execution_count": 3,
   "id": "6eedc23a-37c4-4253-988d-f7025cc0d0ed",
   "metadata": {},
   "outputs": [],
   "source": [
    "# Compilation will make sure the specs match an actual device, so must be done using a particular device and its characteristics\n",
    "eng = sf.RemoteEngine(\"borealis\")\n",
    "device = eng.device"
   ]
  },
  {
   "cell_type": "code",
   "execution_count": 4,
   "id": "011fc193-fc4c-4c05-99f8-aec21bf59e3d",
   "metadata": {},
   "outputs": [
    {
     "name": "stdout",
     "output_type": "stream",
     "text": [
      "{'finished_at': '2023-05-23T17:41:43.088074+00:00', 'target': 'borealis', 'loop_phases': [1.279, 0.149, 1.976], 'schmidt_number': 1.147, 'common_efficiency': 0.384, 'loop_efficiencies': [0.875, 0.883, 0.793], 'squeezing_parameters_mean': {'low': 0.688, 'high': 1.142, 'medium': 0.969}, 'relative_channel_efficiencies': [0.932, 0.937, 0.922, 0.998, 0.966, 0.93, 0.899, 0.974, 0.96, 0.959, 0.978, 1.0, 0.946, 0.973, 0.953, 0.905]}\n"
     ]
    }
   ],
   "source": [
    "print(device.certificate) # Tells us the loss parameters, squeezing parameters"
   ]
  },
  {
   "cell_type": "code",
   "execution_count": 5,
   "id": "0350df15-8ed0-48eb-9b8e-8371f5948079",
   "metadata": {
    "tags": []
   },
   "outputs": [
    {
     "name": "stdout",
     "output_type": "stream",
     "text": [
      "tau is 0.9411764705882353\n"
     ]
    }
   ],
   "source": [
    "# Let's define our circuit manually\n",
    "modes = 22\n",
    "starting_mode = 0 # This can be modified if we are aiming for some particular detectors that are better than the rest)\n",
    "\n",
    "squeeze_level = \"high\"\n",
    "\n",
    "# squeezing-gate parameters. These will be rounded to the closest one supported by hardware\n",
    "r = [0.] * modes\n",
    "\n",
    "# rotation-gate parameters. These phases will not matter for the photon counting multiplexing we are doing here\n",
    "phi_0 = [0.] * modes\n",
    "phi_1 = [0.] * modes\n",
    "phi_2 = [0.] * modes\n",
    "\n",
    "\n",
    "# beamsplitter parameters. Set irrelevant transmission parameters to 1 to load all loops\n",
    "T_0 = [1.] * modes\n",
    "T_1 = [1.] * modes\n",
    "T_2 = [1.] * modes\n",
    "\n",
    "\n",
    "# Create a two-mode squeezed vacuum in the first two modes by interfering two single-mode squeezed vacuum states\n",
    "r[0+starting_mode] = device.certificate[\"squeezing_parameters_mean\"][squeeze_level] \n",
    "r[1+starting_mode] = device.certificate[\"squeezing_parameters_mean\"][squeeze_level]\n",
    "\n",
    "# symmetric BS will convert two SV into one TMSV\n",
    "T_0[1+starting_mode] = 0.5 \n",
    "\n",
    "\n",
    "# Will postselect mode 0 to be in state |n> to herald mode 1 as starting in state |n>\n",
    "\n",
    "# Create a state to be amplified; here it's a single-mode squeezed vacuum\n",
    "r[2+starting_mode] = device.certificate[\"squeezing_parameters_mean\"][squeeze_level]\n",
    "# Delay the state psi in mode 2 to be amplified (all of the squeezed states needed to be in the first modes)\n",
    "T_0[2+starting_mode] = 1.\n",
    "delay_length = 11\n",
    "T_0[2+starting_mode+1:2+starting_mode+1+delay_length] = [0. for i in range(delay_length)]\n",
    "T_0[2+starting_mode+1+delay_length+1] = 1. # Just to make sure it gets out\n",
    "\n",
    "\n",
    "# Fixing phases\n",
    "#phi_0[8]= np.pi/2\n",
    "#phi_1[1] = np.pi\n",
    "phi_0[1+starting_mode+1:2+starting_mode+1+delay_length] = [-np.pi/2 for i in range(delay_length+1)] # The delays add phases too, even though they're just identity transformations\n",
    "\n",
    "\n",
    "\n",
    "# Amplification starts by a variable-transmissivity beam splitter between a vacuum state in mode 7 and the state |n> in mode 1. Will measure mode 1 as amplified state\n",
    "gain = 0.25\n",
    "tau = (1./gain)**2/(1.+(1./gain)**2)\n",
    "tau = 1./(1.+gain**2)\n",
    "print(\"tau is\", tau)\n",
    "# We actually want the mode 1 to house the amplified state, which requires an extra swap relative to the paper\n",
    "# So we adjust the BS accordingly. This does a1-> sqrt(1-tau)a1-sqrt(tau)a2\n",
    "phi_1[1+starting_mode] += np.pi/2 # To fix the default phases from the beam splitter\n",
    "T_1[7+starting_mode] = 1.-tau \n",
    "phi_2[1+starting_mode] += -np.pi/2 # To fix the default phases from the beam splitter\n",
    "\n",
    "\n",
    "\n",
    "# Next do QFT on modes 7, 2 delayed to 13, and 14. Then postselect on pattern 0,1,1 to get amplified state, but also will get the same state with different phases if postselect on 1,1,0 or 1,0,1, so that's good too.\n",
    "# The first BS does a13 -> sqrt(1/2)a13-sqrt(1/2)a14. Our phase choice will end up just adding a global phase\n",
    "T_0[14+starting_mode] = 0.5\n",
    "phi_0[2+starting_mode] += -np.pi/2 # Fix the phase. Since this must happen before going into the loop, that happened way back in time bin 2, which then remained in the loop for a long time\n",
    "phi_1[13+starting_mode] += np.pi/2 # Fix phase after exiting loop.\n",
    "\n",
    "phi_1[7]+=np.pi\n",
    "#phi_1[13]+=np.pi/2\n",
    "#phi_0[2+starting_mode] += np.pi/2\n",
    "\n",
    "\n",
    "# Now delay mode 14 an appropriate length so that it can intefere at the second loop\n",
    "delay_length2 = 5\n",
    "T_0[14+starting_mode+1:14+starting_mode+1+delay_length2] = [0. for i in range(delay_length2)]\n",
    "T_0[14+starting_mode+1+delay_length2+1] = 1. # Just to make sure it gets out\n",
    "phi_0[14+starting_mode+1:14+starting_mode+1+delay_length2] = [-np.pi/2 for i in range(delay_length2)]\n",
    "phi_1[19]+=-np.pi/2\n",
    "\n",
    "phi_0[2]+=-np.pi/2\n",
    "phi_0[8]+=-np.pi/2\n",
    "phi_0[14]+=-np.pi/2\n",
    "phi_2[7]+=np.pi/2\n",
    "phi_2[13]+=np.pi/2\n",
    "phi_2[19]+=-np.pi/2\n",
    "# Beam splitter between modes 7 and 13 at second loop\n",
    "phi_1[7+starting_mode] += np.pi/2 \n",
    "T_1[13+starting_mode] = 1./3  ### this one is not affecting anything yet\n",
    "phi_2[7+starting_mode] += -np.pi/2\n",
    "\n",
    "# Put phase on mode 14 that is now in mode 19\n",
    "phi_1[19]+=np.pi*3./2.\n",
    "\n",
    "\n",
    "\n",
    "\n",
    "# BS between modes 13 and 19 at second loop\n",
    "phi_1[19+starting_mode] += np.pi/2 # This will cancel with the one from before, anyway \n",
    "T_1[19+starting_mode] = 0.5\n",
    "phi_2[19+starting_mode] += -np.pi/2\n",
    "\n",
    "# Finally, postselect on mode 19 having a 1, mode 13 having a 1, mode 7 having a 0. Already said to postselect on n=2 in mode 0. \n",
    "# amplified state is in mode 1, so we will look at the (conditional) photon-number distribution there\n",
    "\n",
    "\n",
    "\n",
    "alpha_0 = np.arccos(np.sqrt(T_0))\n",
    "alpha_1 = np.arccos(np.sqrt(T_1))\n",
    "alpha_2 = np.arccos(np.sqrt(T_2))\n",
    "\n",
    "# the travel time per delay line in time bins\n",
    "delay_0, delay_1, delay_2 = 1, 6, 36\n",
    "\n",
    "# set the first beamsplitter arguments to 'T=1' ('alpha=0') to fill the\n",
    "# loops with pulses\n",
    "alpha_0[:delay_0] = 0.0\n",
    "alpha_1[:delay_1] = 0.0\n",
    "alpha_2[:delay_2] = 0.0\n",
    "\n",
    "# The gate arguments need to be defined as lists, so if they were defined with numpy we need to cast them to lists\n",
    "gate_args = {\n",
    "    \"Sgate\": r,\n",
    "    \"loops\": {\n",
    "        0: {\"Rgate\": phi_0, \"BSgate\": alpha_0.tolist()},\n",
    "        1: {\"Rgate\": phi_1, \"BSgate\": alpha_1.tolist()},\n",
    "        2: {\"Rgate\": phi_2, \"BSgate\": alpha_2.tolist()},\n",
    "    },\n",
    "}"
   ]
  },
  {
   "cell_type": "code",
   "execution_count": 6,
   "id": "b1e45f31-c162-4b16-9eb6-17ae71ba7e31",
   "metadata": {
    "tags": []
   },
   "outputs": [
    {
     "name": "stderr",
     "output_type": "stream",
     "text": [
      "WARNING:strawberryfields.tdm.utils:26/65 arguments of phase gate 1 have been shifted by pi in order to be compatible with the phase modulators.\n",
      "WARNING:strawberryfields.tdm.utils:2/65 arguments of phase gate 2 have been shifted by pi in order to be compatible with the phase modulators.\n"
     ]
    }
   ],
   "source": [
    "# Now compile:\n",
    "gate_args_list = full_compile(gate_args, device)"
   ]
  },
  {
   "cell_type": "code",
   "execution_count": 7,
   "id": "38eb8f9a-051e-48d8-ae0d-c9343141158a",
   "metadata": {},
   "outputs": [],
   "source": [
    "# Verify components if desired\n",
    "#print(gate_args_list[0])"
   ]
  },
  {
   "cell_type": "code",
   "execution_count": 8,
   "id": "73c9b49e-860a-471a-8dab-726153356a9c",
   "metadata": {},
   "outputs": [
    {
     "name": "stdout",
     "output_type": "stream",
     "text": [
      "43\n",
      "[43 42 36  0] 44\n"
     ]
    }
   ],
   "source": [
    "delays = [1, 6, 36]\n",
    "vac_modes = sum(delays)\n",
    "\n",
    "n, N = get_mode_indices(delays)\n",
    "print(vac_modes)\n",
    "print(n,N)"
   ]
  },
  {
   "cell_type": "code",
   "execution_count": 9,
   "id": "df7f8140-3d55-4e1a-94cf-b38875d508b3",
   "metadata": {},
   "outputs": [
    {
     "name": "stdout",
     "output_type": "stream",
     "text": [
      "minimum loss for any mode is:  0.616\n"
     ]
    }
   ],
   "source": [
    "# Use this if want to manually add realistic losses gleaned from the device characteristics, can then be tweaked\n",
    "eta_glob = device.certificate[\"common_efficiency\"]\n",
    "etas_loop = device.certificate[\"loop_efficiencies\"]\n",
    "etas_ch_rel = device.certificate[\"relative_channel_efficiencies\"]\n",
    "\n",
    "prog_length = len(gate_args_list[0])\n",
    "reps = int(np.ceil(prog_length / 16))\n",
    "etas_ch_rel = np.tile(etas_ch_rel, reps)[:prog_length]\n",
    "etas_ch_rel = etas_ch_rel.tolist()\n",
    "\n",
    "gate_args_list += [etas_ch_rel]\n",
    "\n",
    "from strawberryfields.ops import LossChannel\n",
    "print(\"minimum loss for any mode is: \", 1-eta_glob)"
   ]
  },
  {
   "cell_type": "code",
   "execution_count": 10,
   "id": "07b8612e-c698-46f4-a4e4-fd844b98dd60",
   "metadata": {},
   "outputs": [],
   "source": [
    "prog = sf.TDMProgram(N)\n",
    "\n",
    "with prog.context(*gate_args_list) as (p, q):\n",
    "    Sgate(p[0]) | q[n[0]]\n",
    "    for i in range(len(delays)):\n",
    "        Rgate(p[2 * i + 1]) | q[n[i]]\n",
    "        BSgate(p[2 * i + 2], np.pi / 2) | (q[n[i + 1]], q[n[i]])\n",
    "    MeasureFock() | q[0]"
   ]
  },
  {
   "cell_type": "code",
   "execution_count": 11,
   "id": "d6a9884a-d3b5-4de4-82a4-2ca007748573",
   "metadata": {},
   "outputs": [
    {
     "name": "stdout",
     "output_type": "stream",
     "text": [
      "<Job: id=eb84a20f-0fbd-4da0-8569-0c12c424de08>\n"
     ]
    }
   ],
   "source": [
    "shots = 1_000_000\n",
    "job = eng.run_async(prog, shots=shots, crop=True)\n",
    "print(job)"
   ]
  },
  {
   "cell_type": "code",
   "execution_count": null,
   "id": "9f0f78a5-f807-4936-a612-a97958087a74",
   "metadata": {},
   "outputs": [],
   "source": [
    "job.wait()\n",
    "print(job.status)\n",
    "my_samp=np.reshape(sf.Result(job.result).samples[:,:,[vac_modes+0,vac_modes+1,vac_modes+7,vac_modes+13,vac_modes+19]],(shots,5))\n",
    "np.savetxt(f'Borealis_teleamp_raws_{gain}_v2.csv', my_samp.astype(int), delimiter=',',fmt='%i')"
   ]
  },
  {
   "cell_type": "code",
   "execution_count": null,
   "id": "9d8bca41-8fdf-44ce-8245-bdd827e70f40",
   "metadata": {},
   "outputs": [],
   "source": [
    "unique, counts = np.unique(my_samp, return_counts=True,axis=0) \n",
    "np.savetxt(f'Borealis_teleamp_patterns_{gain}_v2.csv', unique.astype(int), delimiter=',',fmt='%i')\n",
    "np.savetxt(f'Borealis_teleamp_counts_{gain}_v2.csv', counts.astype(int), delimiter=',',fmt='%i')"
   ]
  },
  {
   "cell_type": "code",
   "execution_count": null,
   "id": "e7c98289-c92c-46d9-85ed-9ddad4dfaa3a",
   "metadata": {},
   "outputs": [],
   "source": [
    "# Little inefficient but quick code for finding the postselected samples\n",
    "a=my_samp\n",
    "b=a[np.where(a[:,0] == 2)]\n",
    "c=b[np.where(b[:,2] == 0)]\n",
    "d=c[np.where(c[:,3] == 1)]\n",
    "e=d[np.where(d[:,4] == 1)]\n",
    "print(np.shape(np.array(e)))\n",
    "print(e)\n",
    "a=my_samp\n",
    "b=a[np.where(a[:,0] == 2)]\n",
    "c=b[np.where(b[:,2] == 1)]\n",
    "d=c[np.where(c[:,3] == 0)]\n",
    "e=d[np.where(d[:,4] == 1)]\n",
    "print(np.shape(np.array(e)))\n",
    "print(e)\n",
    "a=my_samp\n",
    "b=a[np.where(a[:,0] == 2)]\n",
    "c=b[np.where(b[:,2] == 1)]\n",
    "d=c[np.where(c[:,3] == 1)]\n",
    "e=d[np.where(d[:,4] == 0)]\n",
    "print(np.shape(np.array(e)))\n",
    "print(e)"
   ]
  },
  {
   "cell_type": "code",
   "execution_count": null,
   "id": "5c6e0eae-01ef-407c-aaff-ac524743aaba",
   "metadata": {},
   "outputs": [],
   "source": []
  }
 ],
 "metadata": {
  "kernelspec": {
   "display_name": "PennyLane",
   "language": "python",
   "name": "pennylane"
  },
  "language_info": {
   "codemirror_mode": {
    "name": "ipython",
    "version": 3
   },
   "file_extension": ".py",
   "mimetype": "text/x-python",
   "name": "python",
   "nbconvert_exporter": "python",
   "pygments_lexer": "ipython3",
   "version": "3.9.15"
  }
 },
 "nbformat": 4,
 "nbformat_minor": 5
}
