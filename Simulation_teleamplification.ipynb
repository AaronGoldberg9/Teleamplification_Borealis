{
 "cells": [
  {
   "cell_type": "code",
   "execution_count": 814,
   "id": "957246fd-b681-4804-9b76-2e2837ac0832",
   "metadata": {},
   "outputs": [],
   "source": [
    "# (C) Copyright Aaron Goldberg, 2023.\n",
    "#\n",
    "# This code is licensed under the Apache License, Version 2.0. You may\n",
    "# obtain a copy of this license in the LICENSE.txt file in the root directory\n",
    "# of this source tree or at http://www.apache.org/licenses/LICENSE-2.0.\n",
    "#\n",
    "# Any modifications or derivative works of this code must retain this\n",
    "# copyright notice, and modified files need to carry a notice indicating\n",
    "# that they have been altered from the originals."
   ]
  },
  {
   "cell_type": "code",
   "execution_count": 815,
   "id": "8a146d6a-94c6-47d5-8365-8ebe2dc8fb68",
   "metadata": {},
   "outputs": [],
   "source": [
    "# Implementing idea from https://doi.org/10.1103/PhysRevLett.128.160501. Let's use n=2, amplify a squeezed state, and vary the gain coefficient by varying the beam splitter transmissivity. Other n will take longer\n",
    "import strawberryfields as sf\n",
    "from strawberryfields.ops import Sgate, Rgate, BSgate, MeasureFock\n",
    "from strawberryfields.tdm import borealis_gbs, full_compile, get_mode_indices\n",
    "import numpy as np"
   ]
  },
  {
   "cell_type": "code",
   "execution_count": 816,
   "id": "6eedc23a-37c4-4253-988d-f7025cc0d0ed",
   "metadata": {},
   "outputs": [],
   "source": [
    "# Compilation will make sure the specs match an actual device, so must be done using a particular device and its characteristics\n",
    "eng = sf.RemoteEngine(\"borealis\")\n",
    "device = eng.device"
   ]
  },
  {
   "cell_type": "code",
   "execution_count": 817,
   "id": "011fc193-fc4c-4c05-99f8-aec21bf59e3d",
   "metadata": {},
   "outputs": [
    {
     "name": "stdout",
     "output_type": "stream",
     "text": [
      "{'finished_at': '2023-05-23T14:51:40.209773+00:00', 'target': 'borealis', 'loop_phases': [1.29, 0.173, 1.979], 'schmidt_number': 1.159, 'common_efficiency': 0.37, 'loop_efficiencies': [0.879, 0.883, 0.796], 'squeezing_parameters_mean': {'low': 0.71, 'high': 1.178, 'medium': 0.991}, 'relative_channel_efficiencies': [0.918, 0.936, 0.916, 1.0, 0.966, 0.923, 0.895, 0.969, 0.948, 0.955, 0.973, 0.996, 0.954, 0.972, 0.949, 0.899]}\n",
      "The 12th detector has efficiency:  0.996\n"
     ]
    }
   ],
   "source": [
    "print(device.certificate) # Tells us the loss parameters, squeezing parameters. The best detector seems to always be the 12th, ie index 11\n",
    "print('The 12th detector has efficiency: ',device.certificate['relative_channel_efficiencies'][11])"
   ]
  },
  {
   "cell_type": "code",
   "execution_count": 818,
   "id": "0350df15-8ed0-48eb-9b8e-8371f5948079",
   "metadata": {
    "tags": []
   },
   "outputs": [
    {
     "name": "stdout",
     "output_type": "stream",
     "text": [
      "tau is 6.1031431187061336e-05\n"
     ]
    }
   ],
   "source": [
    "# Let's define our circuit manually\n",
    "modes = 22 # Only really need 15\n",
    "starting_mode = 0 # This can be modified if we are aiming for some particular detectors that are better than the rest)\n",
    "\n",
    "squeeze_level = \"high\"\n",
    "\n",
    "# squeezing-gate parameters. These will be rounded to the closest one supported by hardware\n",
    "r = [0.] * modes\n",
    "\n",
    "# rotation-gate parameters. These phases will not matter for the photon counting multiplexing we are doing here\n",
    "phi_0 = [0.] * modes\n",
    "phi_1 = [0.] * modes\n",
    "phi_2 = [0.] * modes\n",
    "\n",
    "\n",
    "# beamsplitter parameters. Set irrelevant transmission parameters to 1 to load all loops\n",
    "T_0 = [1.] * modes\n",
    "T_1 = [1.] * modes\n",
    "T_2 = [1.] * modes\n",
    "\n",
    "\n",
    "# Create a two-mode squeezed vacuum in the first two modes by interfering two single-mode squeezed vacuum states\n",
    "r[0+starting_mode] = device.certificate[\"squeezing_parameters_mean\"][squeeze_level] \n",
    "r[1+starting_mode] = device.certificate[\"squeezing_parameters_mean\"][squeeze_level]\n",
    "\n",
    "# symmetric BS will convert two SV into one TMSV\n",
    "T_0[1+starting_mode] = 0.5 \n",
    "\n",
    "\n",
    "# Will postselect mode 0 to be in state |n> to herald mode 1 as starting in state |n>\n",
    "\n",
    "# Create a state to be amplified; here it's a single-mode squeezed vacuum\n",
    "r[2+starting_mode] = device.certificate[\"squeezing_parameters_mean\"][squeeze_level]\n",
    "# Delay the state psi in mode 2 to be amplified (all of the squeezed states needed to be in the first modes)\n",
    "T_0[2+starting_mode] = 1.\n",
    "delay_length = 11\n",
    "T_0[2+starting_mode+1:2+starting_mode+1+delay_length] = [0. for i in range(delay_length)]\n",
    "T_0[2+starting_mode+1+delay_length+1] = 1. # Just to make sure it gets out\n",
    "\n",
    "\n",
    "# Fixing phases\n",
    "#phi_0[8]= np.pi/2\n",
    "#phi_1[1] = np.pi\n",
    "phi_0[1+starting_mode+1:2+starting_mode+1+delay_length] = [-np.pi/2 for i in range(delay_length+1)] # The delays add phases too, even though they're just identity transformations\n",
    "\n",
    "\n",
    "\n",
    "# Amplification starts by a variable-transmissivity beam splitter between a vacuum state in mode 7 and the state |n> in mode 1. Will measure mode 1 as amplified state\n",
    "gain = 128.0\n",
    "tau = (1./gain)**2/(1.+(1./gain)**2)\n",
    "tau = 1./(1.+gain**2)\n",
    "print(\"tau is\", tau)\n",
    "# We actually want the mode 1 to house the amplified state, which requires an extra swap relative to the paper\n",
    "# So we adjust the BS accordingly. This does a1-> sqrt(1-tau)a1-sqrt(tau)a2\n",
    "phi_1[1+starting_mode] += np.pi/2 # To fix the default phases from the beam splitter\n",
    "T_1[7+starting_mode] = 1.-tau \n",
    "phi_2[1+starting_mode] += -np.pi/2 # To fix the default phases from the beam splitter\n",
    "\n",
    "\n",
    "\n",
    "# Next do QFT on modes 7, 2 delayed to 13, and 14. Then postselect on pattern 0,1,1 to get amplified state, but also will get the same state with different phases if postselect on 1,1,0 or 1,0,1, so that's good too.\n",
    "# The first BS does a13 -> sqrt(1/2)a13-sqrt(1/2)a14. Our phase choice will end up just adding a global phase\n",
    "T_0[14+starting_mode] = 0.5\n",
    "phi_0[2+starting_mode] += -np.pi/2 # Fix the phase. Since this must happen before going into the loop, that happened way back in time bin 2, which then remained in the loop for a long time\n",
    "phi_1[13+starting_mode] += np.pi/2 # Fix phase after exiting loop.\n",
    "\n",
    "phi_1[7]+=np.pi\n",
    "#phi_1[13]+=np.pi/2\n",
    "#phi_0[2+starting_mode] += np.pi/2\n",
    "\n",
    "\n",
    "# Now delay mode 14 an appropriate length so that it can intefere at the second loop\n",
    "delay_length2 = 5\n",
    "T_0[14+starting_mode+1:14+starting_mode+1+delay_length2] = [0. for i in range(delay_length2)]\n",
    "T_0[14+starting_mode+1+delay_length2+1] = 1. # Just to make sure it gets out\n",
    "phi_0[14+starting_mode+1:14+starting_mode+1+delay_length2] = [-np.pi/2 for i in range(delay_length2)]\n",
    "phi_1[19]+=-np.pi/2\n",
    "\n",
    "phi_0[2]+=-np.pi/2\n",
    "phi_0[8]+=-np.pi/2\n",
    "phi_0[14]+=-np.pi/2\n",
    "phi_2[7]+=np.pi/2\n",
    "phi_2[13]+=np.pi/2\n",
    "phi_2[19]+=-np.pi/2\n",
    "# Beam splitter between modes 7 and 13 at second loop\n",
    "phi_1[7+starting_mode] += np.pi/2 \n",
    "T_1[13+starting_mode] = 1./3  ### this one is not affecting anything yet\n",
    "phi_2[7+starting_mode] += -np.pi/2\n",
    "\n",
    "# Put phase on mode 14 that is now in mode 19\n",
    "phi_1[19]+=np.pi*3./2.\n",
    "\n",
    "\n",
    "\n",
    "\n",
    "# BS between modes 13 and 19 at second loop\n",
    "phi_1[19+starting_mode] += np.pi/2 # This will cancel with the one from before, anyway \n",
    "T_1[19+starting_mode] = 0.5\n",
    "phi_2[19+starting_mode] += -np.pi/2\n",
    "\n",
    "# Finally, postselect on mode 19 having a 1, mode 13 having a 1, mode 7 having a 0. Already said to postselect on n=2 in mode 0. \n",
    "# amplified state is in mode 1, so we will look at the (conditional) photon-number distribution there\n",
    "\n",
    "\n",
    "\n",
    "alpha_0 = np.arccos(np.sqrt(T_0))\n",
    "alpha_1 = np.arccos(np.sqrt(T_1))\n",
    "alpha_2 = np.arccos(np.sqrt(T_2))\n",
    "\n",
    "# the travel time per delay line in time bins\n",
    "delay_0, delay_1, delay_2 = 1, 6, 36\n",
    "\n",
    "# set the first beamsplitter arguments to 'T=1' ('alpha=0') to fill the\n",
    "# loops with pulses\n",
    "alpha_0[:delay_0] = 0.0\n",
    "alpha_1[:delay_1] = 0.0\n",
    "alpha_2[:delay_2] = 0.0\n",
    "\n",
    "# The gate arguments need to be defined as lists, so if they were defined with numpy we need to cast them to lists\n",
    "gate_args = {\n",
    "    \"Sgate\": r,\n",
    "    \"loops\": {\n",
    "        0: {\"Rgate\": phi_0, \"BSgate\": alpha_0.tolist()},\n",
    "        1: {\"Rgate\": phi_1, \"BSgate\": alpha_1.tolist()},\n",
    "        2: {\"Rgate\": phi_2, \"BSgate\": alpha_2.tolist()},\n",
    "    },\n",
    "}"
   ]
  },
  {
   "cell_type": "code",
   "execution_count": 819,
   "id": "b1e45f31-c162-4b16-9eb6-17ae71ba7e31",
   "metadata": {},
   "outputs": [
    {
     "name": "stderr",
     "output_type": "stream",
     "text": [
      "WARNING:strawberryfields.tdm.utils:29/65 arguments of phase gate 1 have been shifted by pi in order to be compatible with the phase modulators.\n",
      "WARNING:strawberryfields.tdm.utils:2/65 arguments of phase gate 2 have been shifted by pi in order to be compatible with the phase modulators.\n"
     ]
    }
   ],
   "source": [
    "# Now compile:\n",
    "gate_args_list = full_compile(gate_args, device)"
   ]
  },
  {
   "cell_type": "code",
   "execution_count": 820,
   "id": "38eb8f9a-051e-48d8-ae0d-c9343141158a",
   "metadata": {},
   "outputs": [
    {
     "name": "stdout",
     "output_type": "stream",
     "text": [
      "[1.178, 1.178, 1.178, 0.0, 0.0, 0.0, 0.0, 0.0, 0.0, 0.0, 0.0, 0.0, 0.0, 0.0, 0.0, 0.0, 0.0, 0.0, 0.0, 0.0, 0.0, 0.0, 0.0, 0.0, 0.0, 0.0, 0.0, 0.0, 0.0, 0.0, 0.0, 0.0, 0.0, 0.0, 0.0, 0.0, 0.0, 0.0, 0.0, 0.0, 0.0, 0.0, 0.0, 0.0, 0.0, 0.0, 0.0, 0.0, 0.0, 0.0, 0.0, 0.0, 0.0, 0.0, 0.0, 0.0, 0.0, 0.0, 0.0, 0.0, 0.0, 0.0, 0.0, 0.0, 0.0]\n"
     ]
    }
   ],
   "source": [
    "# Verify components if desired\n",
    "print(gate_args_list[0])\n",
    "#gate_args_list[0][0:modes]=r\n",
    "#print(gate_args_list[0])"
   ]
  },
  {
   "cell_type": "code",
   "execution_count": 821,
   "id": "485da8e1-75ce-4815-ab03-87c88aada946",
   "metadata": {},
   "outputs": [
    {
     "name": "stdout",
     "output_type": "stream",
     "text": [
      "[0.0, 0.0, -4.71238898038469, -1.5707963267948966, -1.5707963267948966, -1.5707963267948966, -1.5707963267948966, -1.5707963267948966, -3.141592653589793, -1.5707963267948966, -1.5707963267948966, -1.5707963267948966, -1.5707963267948966, -1.5707963267948966, -1.5707963267948966, -1.5707963267948966, -1.5707963267948966, -1.5707963267948966, -1.5707963267948966, -1.5707963267948966, 0.0, 0.0]\n",
      "[0.0, 0.0, -4.71238898038469, -1.5707963267948966, -1.5707963267948966, -1.5707963267948966, -1.5707963267948966, -1.5707963267948966, -3.141592653589793, -1.5707963267948966, -1.5707963267948966, -1.5707963267948966, -1.5707963267948966, -1.5707963267948966, -1.5707963267948966, -1.5707963267948966, -1.5707963267948966, -1.5707963267948966, -1.5707963267948966, -1.5707963267948966, 0.0, 0.0, 0, 0, 0, 0, 0, 0, 0, 0, 0, 0, 0, 0, 0, 0, 0, 0, 0, 0, 0, 0, 0, 0, 0, 0, 0, 0, 0, 0, 0, 0, 0, 0, 0, 0, 0, 0, 0, 0, 0, 0, 0, 0, 0]\n",
      "[0.0, 1.5707963267948966, 0.0, 0.0, 0.0, 0.0, 0.0, 4.71238898038469, 0.0, 0.0, 0.0, 0.0, 0.0, 1.5707963267948966, 0.0, 0.0, 0.0, 0.0, 0.0, 4.71238898038469, 0.0, 0.0]\n",
      "[0, 0.0, 1.5707963267948966, 3.141592653589793, 0.0, 0.0, 0.0, 3.141592653589793, 4.71238898038469, 0.0, 0.0, 0.0, 3.141592653589793, 3.141592653589793, 4.71238898038469, 0.0, 0.0, 3.141592653589793, 3.141592653589793, 0.0, 1.5707963267948966, 0.0, 3.141592653589793, 3.141592653589793, 0, 0, 0, 3.141592653589793, 3.141592653589793, 0, 0, 0, 3.141592653589793, 3.141592653589793, 0, 0, 0, 3.141592653589793, 3.141592653589793, 0, 0, 3.141592653589793, 3.141592653589793, 3.141592653589793, 0, 0, 3.141592653589793, 3.141592653589793, 3.141592653589793, 0, 0, 3.141592653589793, 3.141592653589793, 3.141592653589793, 0, 0, 0, 3.141592653589793, 3.141592653589793, 0, 0, 0, 3.141592653589793, 3.141592653589793, 0]\n",
      "[0.0, -1.5707963267948966, 0.0, 0.0, 0.0, 0.0, 0.0, 0.0, 0.0, 0.0, 0.0, 0.0, 0.0, 1.5707963267948966, 0.0, 0.0, 0.0, 0.0, 0.0, -3.141592653589793, 0.0, 0.0]\n",
      "[0, 0, 0, 0, 0, 0, 0, 0.0, 1.5707963267948966, 0.0, 0.0, 0.0, 0.0, 0.0, 0.0, 0.0, 0.0, 0.0, 0.0, 0.0, 1.5707963267948966, 0.0, 0.0, 0.0, 0.0, 0.0, 0.0, 0.0, 0.0, 0, 0, 0, 0, 0, 0, 0, 0, 0, 0, 0, 0, 0, 0, 0, 0, 0, 0, 0, 0, 0, 0, 0, 0, 0, 0, 0, 0, 0, 0, 0, 0, 0, 0, 0, 0]\n"
     ]
    }
   ],
   "source": [
    "print(phi_0)\n",
    "print(gate_args_list[1])\n",
    "print(phi_1)\n",
    "print(gate_args_list[3])\n",
    "#print(len(gate_args_list[3]))\n",
    "#gate_args_list[3][0:modes]=phi_1\n",
    "#gate_args_list[3][modes+1:]=[0. for i in range(len(gate_args_list[3][modes+1:-1]))]\n",
    "#print(gate_args_list[3])\n",
    "#print(len(gate_args_list[3]))\n",
    "print(phi_2)\n",
    "print(gate_args_list[5])\n",
    "#print(len(gate_args_list[5]))\n",
    "#gate_args_list[5]=[0. for i in range(len(gate_args_list[5]))]\n",
    "#print(gate_args_list[5])\n",
    "#print(len(gate_args_list[5]))"
   ]
  },
  {
   "cell_type": "code",
   "execution_count": 822,
   "id": "4086a845-446a-4330-bfce-823296ced5d0",
   "metadata": {},
   "outputs": [
    {
     "name": "stdout",
     "output_type": "stream",
     "text": [
      "[1.29, 0.173, 1.979]\n"
     ]
    }
   ],
   "source": [
    "print(device.certificate[\"loop_phases\"])"
   ]
  },
  {
   "cell_type": "code",
   "execution_count": 823,
   "id": "73c9b49e-860a-471a-8dab-726153356a9c",
   "metadata": {},
   "outputs": [
    {
     "name": "stdout",
     "output_type": "stream",
     "text": [
      "43\n",
      "[43 42 36  0] 44\n"
     ]
    }
   ],
   "source": [
    "delays = [1, 6, 36]\n",
    "vac_modes = sum(delays)\n",
    "\n",
    "n, N = get_mode_indices(delays)\n",
    "print(vac_modes)\n",
    "print(n,N)"
   ]
  },
  {
   "cell_type": "code",
   "execution_count": 824,
   "id": "df7f8140-3d55-4e1a-94cf-b38875d508b3",
   "metadata": {},
   "outputs": [
    {
     "name": "stdout",
     "output_type": "stream",
     "text": [
      "minimum loss for any mode is:  0.63\n"
     ]
    }
   ],
   "source": [
    "# Use this if want to manually add realistic losses gleaned from the device characteristics, can then be tweaked\n",
    "eta_glob = device.certificate[\"common_efficiency\"]\n",
    "etas_loop = device.certificate[\"loop_efficiencies\"]\n",
    "etas_ch_rel = device.certificate[\"relative_channel_efficiencies\"]\n",
    "\n",
    "prog_length = len(gate_args_list[0])\n",
    "reps = int(np.ceil(prog_length / 16))\n",
    "etas_ch_rel = np.tile(etas_ch_rel, reps)[:prog_length]\n",
    "etas_ch_rel = etas_ch_rel.tolist()\n",
    "\n",
    "gate_args_list += [etas_ch_rel]\n",
    "\n",
    "from strawberryfields.ops import LossChannel\n",
    "print(\"minimum loss for any mode is: \", 1-eta_glob)"
   ]
  },
  {
   "cell_type": "code",
   "execution_count": 825,
   "id": "07b8612e-c698-46f4-a4e4-fd844b98dd60",
   "metadata": {},
   "outputs": [],
   "source": [
    "prog = sf.TDMProgram(N)\n",
    "\n",
    "with prog.context(*gate_args_list) as (p, q):\n",
    "    Sgate(p[0]) | q[n[0]]\n",
    "    #LossChannel(eta_glob) | q[n[0]]\n",
    "    for i in range(len(delays)):\n",
    "        Rgate(p[2 * i + 1]) | q[n[i]]\n",
    "        BSgate(p[2 * i + 2], np.pi / 2) | (q[n[i + 1]], q[n[i]])\n",
    "        #LossChannel(etas_loop[i]) | q[n[i]]\n",
    "    #LossChannel(p[7]) | q[0]\n",
    "    MeasureFock() | q[0]"
   ]
  },
  {
   "cell_type": "code",
   "execution_count": 826,
   "id": "1fc80109-f86f-4a1a-ae88-01a26bfc199b",
   "metadata": {},
   "outputs": [
    {
     "name": "stdout",
     "output_type": "stream",
     "text": [
      "The transfer matrix is:  [[ 0.707+0.j    -0.   +0.707j  0.   +0.j     0.   +0.j     0.   +0.j\n",
      "   0.   +0.j     0.   +0.j     0.   +0.j     0.   +0.j     0.   +0.j\n",
      "   0.   +0.j     0.   +0.j     0.   +0.j     0.   +0.j     0.   +0.j\n",
      "   0.   +0.j     0.   +0.j     0.   +0.j     0.   +0.j     0.   +0.j\n",
      "   0.   +0.j     0.   +0.j   ]\n",
      " [-0.   -0.707j -0.707+0.j    -0.   -0.j     0.   -0.j    -0.   -0.j\n",
      "  -0.   +0.j     0.   +0.j     0.   -0.j     0.008+0.j     0.   +0.j\n",
      "   0.   +0.j     0.   +0.j     0.   +0.j     0.   +0.j     0.   +0.j\n",
      "   0.   +0.j     0.   +0.j     0.   +0.j     0.   +0.j     0.   +0.j\n",
      "   0.   +0.j     0.   +0.j   ]\n",
      " [ 0.   +0.j     0.   +0.j     0.   -0.j    -1.   +0.j     0.   +0.j\n",
      "   0.   +0.j     0.   +0.j     0.   +0.j     0.   +0.j     0.   +0.j\n",
      "   0.   +0.j     0.   +0.j     0.   +0.j     0.   +0.j     0.   +0.j\n",
      "   0.   +0.j     0.   +0.j     0.   +0.j     0.   +0.j     0.   +0.j\n",
      "   0.   +0.j     0.   +0.j   ]\n",
      " [ 0.   +0.j     0.   +0.j    -0.   -0.j     0.   -0.j     1.   +0.j\n",
      "   0.   +0.j     0.   +0.j     0.   +0.j     0.   +0.j     0.   +0.j\n",
      "   0.   +0.j     0.   +0.j     0.   +0.j     0.   +0.j     0.   +0.j\n",
      "   0.   +0.j     0.   +0.j     0.   +0.j     0.   +0.j     0.   +0.j\n",
      "   0.   +0.j     0.   +0.j   ]\n",
      " [ 0.   +0.j     0.   +0.j     0.   -0.j     0.   +0.j     0.   -0.j\n",
      "   1.   +0.j     0.   +0.j     0.   +0.j     0.   +0.j     0.   +0.j\n",
      "   0.   +0.j     0.   +0.j     0.   +0.j     0.   +0.j     0.   +0.j\n",
      "   0.   +0.j     0.   +0.j     0.   +0.j     0.   +0.j     0.   +0.j\n",
      "   0.   +0.j     0.   +0.j   ]\n",
      " [ 0.   +0.j     0.   +0.j     0.   -0.j     0.   +0.j     0.   +0.j\n",
      "   0.   -0.j     1.   +0.j     0.   +0.j     0.   +0.j     0.   +0.j\n",
      "   0.   +0.j     0.   +0.j     0.   +0.j     0.   +0.j     0.   +0.j\n",
      "   0.   +0.j     0.   +0.j     0.   +0.j     0.   +0.j     0.   +0.j\n",
      "   0.   +0.j     0.   +0.j   ]\n",
      " [ 0.   +0.j     0.   +0.j    -0.   -0.j     0.   -0.j    -0.   -0.j\n",
      "  -0.   +0.j     0.   +0.j    -1.   +0.j     0.   +0.j     0.   +0.j\n",
      "   0.   +0.j     0.   +0.j     0.   +0.j     0.   +0.j     0.   +0.j\n",
      "   0.   +0.j     0.   +0.j     0.   +0.j     0.   +0.j     0.   +0.j\n",
      "   0.   +0.j     0.   +0.j   ]\n",
      " [-0.   -0.003j -0.003+0.j     0.577-0.j     0.   +0.j     0.   -0.j\n",
      "  -0.   -0.j    -0.   +0.j     0.   +0.j    -0.577-0.j    -0.   -0.j\n",
      "  -0.   +0.j     0.   +0.j     0.   -0.j    -0.   -0.j     0.577+0.j\n",
      "   0.   +0.j     0.   +0.j     0.   +0.j     0.   +0.j     0.   +0.j\n",
      "   0.   +0.j     0.   +0.j   ]\n",
      " [ 0.   +0.j     0.   +0.j    -0.   -0.j     0.   -0.j    -0.   -0.j\n",
      "  -0.   +0.j     0.   +0.j     0.   +0.j    -0.   -0.j     1.   +0.j\n",
      "   0.   +0.j     0.   +0.j     0.   +0.j     0.   +0.j     0.   +0.j\n",
      "   0.   +0.j     0.   +0.j     0.   +0.j     0.   +0.j     0.   +0.j\n",
      "   0.   +0.j     0.   +0.j   ]\n",
      " [ 0.   +0.j     0.   +0.j     0.   -0.j     0.   +0.j     0.   -0.j\n",
      "  -0.   -0.j    -0.   +0.j     0.   +0.j     0.   -0.j     0.   -0.j\n",
      "   1.   +0.j     0.   +0.j     0.   +0.j     0.   +0.j     0.   +0.j\n",
      "   0.   +0.j     0.   +0.j     0.   +0.j     0.   +0.j     0.   +0.j\n",
      "   0.   +0.j     0.   +0.j   ]\n",
      " [ 0.   +0.j     0.   +0.j     0.   +0.j    -0.   +0.j     0.   +0.j\n",
      "   0.   -0.j    -0.   -0.j    -0.   +0.j     0.   +0.j     0.   +0.j\n",
      "   0.   -0.j     1.   +0.j     0.   +0.j     0.   +0.j     0.   +0.j\n",
      "   0.   +0.j     0.   +0.j     0.   +0.j     0.   +0.j     0.   +0.j\n",
      "   0.   +0.j     0.   +0.j   ]\n",
      " [ 0.   +0.j     0.   +0.j     0.   -0.j     0.   +0.j     0.   -0.j\n",
      "  -0.   -0.j    -0.   +0.j     0.   +0.j    -0.   -0.j    -0.   -0.j\n",
      "  -0.   +0.j     0.   +0.j    -1.   +0.j     0.   +0.j     0.   +0.j\n",
      "   0.   +0.j     0.   +0.j     0.   +0.j     0.   +0.j     0.   +0.j\n",
      "   0.   +0.j     0.   +0.j   ]\n",
      " [ 0.   +0.j     0.   +0.j     0.   +0.j    -0.   +0.j     0.   +0.j\n",
      "   0.   -0.j    -0.   -0.j    -0.   +0.j     0.   -0.j     0.   -0.j\n",
      "  -0.   -0.j    -0.   +0.j     0.   +0.j    -1.   +0.j     0.   +0.j\n",
      "   0.   +0.j     0.   +0.j     0.   +0.j     0.   +0.j     0.   +0.j\n",
      "   0.   +0.j     0.   +0.j   ]\n",
      " [ 0.   +0.003j  0.003-0.j     0.289+0.5j   -0.   +0.j     0.   +0.j\n",
      "   0.   -0.j    -0.   -0.j    -0.   +0.j     0.577-0.j     0.   -0.j\n",
      "  -0.   -0.j    -0.   +0.j     0.   +0.j     0.   -0.j     0.289-0.5j\n",
      "  -0.   +0.j     0.   +0.j     0.   -0.j    -0.   -0.j    -0.   +0.j\n",
      "   0.   +0.j     0.   +0.j   ]\n",
      " [ 0.   +0.j     0.   +0.j     0.   +0.j    -0.   +0.j     0.   +0.j\n",
      "   0.   -0.j    -0.   -0.j    -0.   +0.j     0.   -0.j     0.   -0.j\n",
      "  -0.   -0.j    -0.   +0.j     0.   +0.j     0.   -0.j     0.   -0.j\n",
      "   1.   +0.j     0.   +0.j     0.   +0.j     0.   +0.j     0.   +0.j\n",
      "   0.   +0.j     0.   +0.j   ]\n",
      " [ 0.   +0.j     0.   +0.j    -0.   +0.j    -0.   -0.j    -0.   +0.j\n",
      "   0.   +0.j     0.   -0.j    -0.   -0.j     0.   +0.j     0.   +0.j\n",
      "   0.   -0.j    -0.   -0.j    -0.   +0.j     0.   +0.j     0.   +0.j\n",
      "   0.   -0.j     1.   +0.j     0.   +0.j     0.   +0.j     0.   +0.j\n",
      "   0.   +0.j     0.   +0.j   ]\n",
      " [ 0.   +0.j     0.   +0.j     0.   +0.j    -0.   +0.j     0.   +0.j\n",
      "   0.   -0.j    -0.   -0.j    -0.   +0.j     0.   -0.j     0.   -0.j\n",
      "  -0.   -0.j    -0.   +0.j     0.   +0.j     0.   -0.j    -0.   -0.j\n",
      "  -0.   +0.j     0.   +0.j    -1.   +0.j     0.   +0.j     0.   +0.j\n",
      "   0.   +0.j     0.   +0.j   ]\n",
      " [ 0.   +0.j     0.   +0.j    -0.   +0.j    -0.   -0.j    -0.   +0.j\n",
      "   0.   +0.j     0.   -0.j    -0.   -0.j     0.   +0.j     0.   +0.j\n",
      "   0.   -0.j    -0.   -0.j    -0.   +0.j     0.   +0.j     0.   -0.j\n",
      "  -0.   -0.j    -0.   +0.j     0.   +0.j    -1.   +0.j     0.   +0.j\n",
      "   0.   +0.j     0.   +0.j   ]\n",
      " [ 0.   +0.j     0.   +0.j     0.   +0.j    -0.   +0.j     0.   +0.j\n",
      "   0.   -0.j    -0.   -0.j    -0.   +0.j     0.   -0.j     0.   -0.j\n",
      "  -0.   -0.j    -0.   +0.j     0.   +0.j     0.   -0.j    -0.   -0.j\n",
      "  -0.   +0.j     0.   +0.j     0.   +0.j     0.   -0.j     1.   +0.j\n",
      "   0.   +0.j     0.   +0.j   ]\n",
      " [ 0.   +0.003j  0.003-0.j     0.289-0.5j    0.   +0.j     0.   -0.j\n",
      "  -0.   -0.j    -0.   +0.j     0.   +0.j     0.577-0.j    -0.   -0.j\n",
      "  -0.   +0.j     0.   +0.j     0.   -0.j    -0.   -0.j     0.289+0.5j\n",
      "   0.   -0.j    -0.   -0.j    -0.   +0.j     0.   +0.j     0.   +0.j\n",
      "   0.   +0.j     0.   +0.j   ]\n",
      " [ 0.   +0.j     0.   +0.j     0.   +0.j     0.   +0.j     0.   +0.j\n",
      "   0.   +0.j     0.   +0.j     0.   +0.j     0.   +0.j     0.   +0.j\n",
      "   0.   +0.j     0.   +0.j     0.   +0.j     0.   +0.j     0.   +0.j\n",
      "   0.   +0.j     0.   +0.j     0.   +0.j     0.   +0.j     0.   +0.j\n",
      "   1.   +0.j     0.   +0.j   ]\n",
      " [ 0.   +0.j     0.   +0.j     0.   +0.j     0.   +0.j     0.   +0.j\n",
      "   0.   +0.j     0.   +0.j     0.   +0.j     0.   +0.j     0.   +0.j\n",
      "   0.   +0.j     0.   +0.j     0.   +0.j     0.   +0.j     0.   +0.j\n",
      "   0.   +0.j     0.   +0.j     0.   +0.j     0.   +0.j     0.   +0.j\n",
      "   0.   +0.j    -1.   +0.j   ]]\n"
     ]
    },
    {
     "data": {
      "image/png": "[encoded data removed]",
      "text/plain": [
       "<Figure size 1800x800 with 2 Axes>"
      ]
     },
     "metadata": {},
     "output_type": "display_data"
    }
   ],
   "source": [
    "# Let's check the transfer matrix for the relevant modes\n",
    "prog_passive = sf.TDMProgram(N)\n",
    "with prog_passive.context(*gate_args_list) as (p, q):\n",
    "    for i in range(len(delays)):\n",
    "        Rgate(p[2 * i + 1]) | q[n[i]]\n",
    "        BSgate(p[2 * i + 2], np.pi / 2) | (q[n[i + 1]], q[n[i]])\n",
    "prog_passive.space_unroll()\n",
    "prog_passive = prog_passive.compile(compiler=\"passive\")\n",
    "transfer_matrix_tot = prog_passive.circuit[0].op.p[0]\n",
    "# crop out the vacuum modes\n",
    "transfer_matrix = transfer_matrix_tot[vac_modes:prog_length, vac_modes:prog_length]\n",
    "print(\"The transfer matrix is: \", transfer_matrix.round(3))\n",
    "#print(transfer_matrix_tot.round(15))\n",
    "\n",
    "import matplotlib.pyplot as plt\n",
    "\n",
    "fig, ax = plt.subplots(1, 2, figsize=(18, 8))\n",
    "ax[0].matshow(transfer_matrix.real)\n",
    "ax[1].matshow(transfer_matrix.imag**2)\n",
    "ax[1].matshow(transfer_matrix.real**2+transfer_matrix.imag**2)\n",
    "plt.show()"
   ]
  },
  {
   "cell_type": "code",
   "execution_count": 827,
   "id": "4fc5d6e6-3848-49da-afc6-a1ab1b3861bb",
   "metadata": {},
   "outputs": [
    {
     "data": {
      "text/plain": [
       "array([[ 0.71+0.j  , -0.  +0.71j,  0.  +0.j  ,  0.  +0.j  ,  0.  +0.j  ,\n",
       "         0.  +0.j  ,  0.  +0.j  ,  0.  +0.j  ,  0.  +0.j  ,  0.  +0.j  ,\n",
       "         0.  +0.j  ,  0.  +0.j  ,  0.  +0.j  ,  0.  +0.j  ,  0.  +0.j  ,\n",
       "         0.  +0.j  ,  0.  +0.j  ,  0.  +0.j  ,  0.  +0.j  ,  0.  +0.j  ,\n",
       "         0.  +0.j  ,  0.  +0.j  ],\n",
       "       [-0.  -0.71j, -0.71+0.j  , -0.  -0.j  ,  0.  -0.j  , -0.  -0.j  ,\n",
       "        -0.  +0.j  ,  0.  +0.j  ,  0.  -0.j  ,  0.01+0.j  ,  0.  +0.j  ,\n",
       "         0.  +0.j  ,  0.  +0.j  ,  0.  +0.j  ,  0.  +0.j  ,  0.  +0.j  ,\n",
       "         0.  +0.j  ,  0.  +0.j  ,  0.  +0.j  ,  0.  +0.j  ,  0.  +0.j  ,\n",
       "         0.  +0.j  ,  0.  +0.j  ],\n",
       "       [-0.  -0.j  , -0.  +0.j  ,  0.58-0.j  ,  0.  +0.j  ,  0.  -0.j  ,\n",
       "        -0.  -0.j  , -0.  +0.j  ,  0.  +0.j  , -0.58-0.j  , -0.  -0.j  ,\n",
       "        -0.  +0.j  ,  0.  +0.j  ,  0.  -0.j  , -0.  -0.j  ,  0.58+0.j  ,\n",
       "         0.  +0.j  ,  0.  +0.j  ,  0.  +0.j  ,  0.  +0.j  ,  0.  +0.j  ,\n",
       "         0.  +0.j  ,  0.  +0.j  ],\n",
       "       [ 0.  +0.j  ,  0.  -0.j  ,  0.29+0.5j , -0.  +0.j  ,  0.  +0.j  ,\n",
       "         0.  -0.j  , -0.  -0.j  , -0.  +0.j  ,  0.58-0.j  ,  0.  -0.j  ,\n",
       "        -0.  -0.j  , -0.  +0.j  ,  0.  +0.j  ,  0.  -0.j  ,  0.29-0.5j ,\n",
       "        -0.  +0.j  ,  0.  +0.j  ,  0.  -0.j  , -0.  -0.j  , -0.  +0.j  ,\n",
       "         0.  +0.j  ,  0.  +0.j  ],\n",
       "       [ 0.  +0.j  ,  0.  -0.j  ,  0.29-0.5j ,  0.  +0.j  ,  0.  -0.j  ,\n",
       "        -0.  -0.j  , -0.  +0.j  ,  0.  +0.j  ,  0.58-0.j  , -0.  -0.j  ,\n",
       "        -0.  +0.j  ,  0.  +0.j  ,  0.  -0.j  , -0.  -0.j  ,  0.29+0.5j ,\n",
       "         0.  -0.j  , -0.  -0.j  , -0.  +0.j  ,  0.  +0.j  ,  0.  +0.j  ,\n",
       "         0.  +0.j  ,  0.  +0.j  ]])"
      ]
     },
     "execution_count": 827,
     "metadata": {},
     "output_type": "execute_result"
    }
   ],
   "source": [
    "transfer_matrix.round(2)[[0,1,7,13,19],:]"
   ]
  },
  {
   "cell_type": "code",
   "execution_count": 828,
   "id": "4f30aa5e-921f-4501-a4c8-718bbb14837e",
   "metadata": {},
   "outputs": [
    {
     "data": {
      "text/plain": [
       "array([[ 0.707+0.j   , -0.   +0.707j,  0.   +0.j   ],\n",
       "       [-0.   -0.707j, -0.707+0.j   , -0.   -0.j   ],\n",
       "       [ 0.   +0.j   ,  0.   +0.j   ,  0.   -0.j   ],\n",
       "       [ 0.   +0.j   ,  0.   +0.j   , -0.   -0.j   ],\n",
       "       [ 0.   +0.j   ,  0.   +0.j   ,  0.   -0.j   ],\n",
       "       [ 0.   +0.j   ,  0.   +0.j   ,  0.   -0.j   ],\n",
       "       [ 0.   +0.j   ,  0.   +0.j   , -0.   -0.j   ],\n",
       "       [-0.   -0.003j, -0.003+0.j   ,  0.577-0.j   ],\n",
       "       [ 0.   +0.j   ,  0.   +0.j   , -0.   -0.j   ],\n",
       "       [ 0.   +0.j   ,  0.   +0.j   ,  0.   -0.j   ],\n",
       "       [ 0.   +0.j   ,  0.   +0.j   ,  0.   +0.j   ],\n",
       "       [ 0.   +0.j   ,  0.   +0.j   ,  0.   -0.j   ],\n",
       "       [ 0.   +0.j   ,  0.   +0.j   ,  0.   +0.j   ],\n",
       "       [ 0.   +0.003j,  0.003-0.j   ,  0.289+0.5j  ],\n",
       "       [ 0.   +0.j   ,  0.   +0.j   ,  0.   +0.j   ],\n",
       "       [ 0.   +0.j   ,  0.   +0.j   , -0.   +0.j   ],\n",
       "       [ 0.   +0.j   ,  0.   +0.j   ,  0.   +0.j   ],\n",
       "       [ 0.   +0.j   ,  0.   +0.j   , -0.   +0.j   ],\n",
       "       [ 0.   +0.j   ,  0.   +0.j   ,  0.   +0.j   ],\n",
       "       [ 0.   +0.003j,  0.003-0.j   ,  0.289-0.5j  ],\n",
       "       [ 0.   +0.j   ,  0.   +0.j   ,  0.   +0.j   ],\n",
       "       [ 0.   +0.j   ,  0.   +0.j   ,  0.   +0.j   ]])"
      ]
     },
     "execution_count": 828,
     "metadata": {},
     "output_type": "execute_result"
    }
   ],
   "source": [
    "transfer_matrix.round(3)[:,0:3]"
   ]
  },
  {
   "cell_type": "code",
   "execution_count": 841,
   "id": "d6a9884a-d3b5-4de4-82a4-2ca007748573",
   "metadata": {},
   "outputs": [],
   "source": [
    "compile_options = {\n",
    "    \"device\": device,\n",
    "    \"realistic_loss\": False,\n",
    "}\n",
    "run_options = {\n",
    "    \"shots\": 0,\n",
    "    \"crop\": True,\n",
    "    \"space_unroll\": True,\n",
    "}\n",
    "\n",
    "eng_sim = sf.Engine(backend=\"gaussian\")\n",
    "results_sim = eng_sim.run(prog, **run_options, compile_options=compile_options) # Using automated loss\n",
    "#results_sim = eng_sim.run(prog, shots=None, space_unroll=True, crop=True) # Using manual loss from specific device"
   ]
  },
  {
   "cell_type": "code",
   "execution_count": 842,
   "id": "e42e7eb6-b675-4653-84d6-071db57e7811",
   "metadata": {},
   "outputs": [
    {
     "name": "stdout",
     "output_type": "stream",
     "text": [
      "Number of modes:  22\n",
      "trace, purity of mode 0 calculated with Fock (faulty!):  (1+0j) (1+0j)\n",
      "trace, purity of mode 1 calculated with Fock (faulty!):  (1+0j) (1+0j)\n",
      "Quadrature coherence scale from mode 0: (0.18788885821886592+0j)\n",
      "Quadrature coherence scale from mode 1: (0.18789818727682261+0j)\n",
      "If it was pure we'd have QCS of 1+2 nbar: 5.321735460918713\n",
      "nbar (2.1607254396939677+0j)\n",
      "purity of initial state from output Fock (0.18791789369784742+0j)\n",
      "g^2(0) mode 0: (1.9999270867986456+0j)\n",
      "g^2(0) mode 1: (1.9999553777940329+0j)\n"
     ]
    }
   ],
   "source": [
    "state = results_sim.state\n",
    "print(\"Number of modes: \",state.num_modes)\n",
    "high_cutoff=40\n",
    "low_cutoff=40\n",
    "mode0=state.reduced_dm(0,cutoff=high_cutoff) #This does some weird things when the cutoff is too small!\n",
    "print(\"trace, purity of mode 0 calculated with Fock (faulty!): \",np.trace(mode0),np.trace(np.matmul(mode0,mode0)))\n",
    "mode1=state.reduced_dm(1,cutoff=high_cutoff) #This does some weird things when the cutoff is too small!\n",
    "print(\"trace, purity of mode 1 calculated with Fock (faulty!): \",np.trace(mode1),np.trace(np.matmul(mode1,mode1)))\n",
    "gauss0=state.reduced_gaussian(0)\n",
    "gauss1=state.reduced_gaussian(1)\n",
    "\n",
    "# If I make a state using the covariance matrix and means listed above, I get the wrong answer\n",
    "from thewalrus.quantum import state_vector, density_matrix\n",
    "mu0=gauss0[0]\n",
    "cov0=gauss0[1]\n",
    "#psi0 = state_vector(mu0, cov0, normalize=False, cutoff=low_cutoff) # Can only use this for pure states\n",
    "rho0 = density_matrix(mu0, cov0, normalize=False, cutoff=low_cutoff)\n",
    "#print(psi0) # Can only use this for pure states\n",
    "#print(np.diag(rho0))\n",
    "#print(np.diag(mode0))\n",
    "mu1=gauss1[0]\n",
    "cov1=gauss1[1]\n",
    "#psi1 = state_vector(mu1, cov1, normalize=False, cutoff=low_cutoff) # Can only use this for pure states\n",
    "rho1 = density_matrix(mu1, cov1, normalize=False, cutoff=low_cutoff)\n",
    "#print(psi1) # Can only use this for pure states\n",
    "#print(rho1)\n",
    "#print(mode1)\n",
    "print(\"Quadrature coherence scale from mode 0:\",1.+2*np.sum([n*((-1)**n) * rho0[n][n] for n in range(low_cutoff)])/np.sum([((-1)**n) * rho0[n][n] for n in range(low_cutoff)]))\n",
    "print(\"Quadrature coherence scale from mode 1:\",1.+2*np.sum([n*((-1)**n) * rho1[n][n] for n in range(low_cutoff)])/np.sum([((-1)**n) * rho1[n][n] for n in range(low_cutoff)]))\n",
    "print(\"If it was pure we'd have QCS of 1+2 nbar:\",1.+2.*np.sinh(gate_args_list[0][0])**2)\n",
    "print(\"nbar\",np.sum([n * rho1[n][n] for n in range(low_cutoff)]))\n",
    "print(\"purity of initial state from output Fock\",np.sum([((-1)**n) * rho1[n][n] for n in range(low_cutoff)]))\n",
    "print(\"g^2(0) mode 0:\",np.sum([n*(n-1)*rho0[n][n] for n in range(low_cutoff)])/(np.sum([n * rho0[n][n] for n in range(low_cutoff)])**2))\n",
    "print(\"g^2(0) mode 1:\",np.sum([n*n*rho1[n][n] for n in range(low_cutoff)])/(np.sum([n * rho1[n][n] for n in range(low_cutoff)])**2)-1/(np.sum([n * rho0[n][n] for n in range(low_cutoff)])))"
   ]
  },
  {
   "cell_type": "code",
   "execution_count": 843,
   "id": "8c0f5d8b-59ec-4516-b7de-4da1fa43acd0",
   "metadata": {},
   "outputs": [
    {
     "name": "stdout",
     "output_type": "stream",
     "text": [
      "(array([-0.,  0.]), array([[5.32173546e+00, 3.08227243e-16],\n",
      "       [3.08227243e-16, 5.32173546e+00]]))\n",
      "(array([-0.,  0.]), array([[5.32147170e+00, 3.93292577e-16],\n",
      "       [3.93292577e-16, 5.32147170e+00]]))\n",
      "(array([-0.,  0.]), array([[ 1.00000000e+00, -1.42807774e-32],\n",
      "       [-1.42807774e-32,  1.00000000e+00]]))\n",
      "(array([-0.,  0.]), array([[1.00000000e+00, 1.42807774e-32],\n",
      "       [1.42807774e-32, 1.00000000e+00]]))\n",
      "(array([-0.,  0.]), array([[ 1.00000000e+00, -1.42807774e-32],\n",
      "       [-1.42807774e-32,  1.00000000e+00]]))\n",
      "(array([-0.,  0.]), array([[1.00000000e+00, 1.42807774e-32],\n",
      "       [1.42807774e-32, 1.00000000e+00]]))\n",
      "(array([-0.,  0.]), array([[ 1.00000000e+00, -1.42807774e-32],\n",
      "       [-1.42807774e-32,  1.00000000e+00]]))\n",
      "(array([-0.,  0.]), array([[3.63387773, 1.26960576],\n",
      "       [1.26960576, 1.24745509]]))\n",
      "(array([-0.,  0.]), array([[ 1.00000000e+00, -1.42807774e-32],\n",
      "       [-1.42807774e-32,  1.00000000e+00]]))\n",
      "(array([-0.,  0.]), array([[1.00000000e+00, 1.42807774e-32],\n",
      "       [1.42807774e-32, 1.00000000e+00]]))\n",
      "(array([-0.,  0.]), array([[ 1.00000000e+00, -1.42807774e-32],\n",
      "       [-1.42807774e-32,  1.00000000e+00]]))\n",
      "(array([-0.,  0.]), array([[1.00000000e+00, 1.42807774e-32],\n",
      "       [1.42807774e-32, 1.00000000e+00]]))\n",
      "(array([-0.,  0.]), array([[ 1.00000000e+00, -1.42807774e-32],\n",
      "       [-1.42807774e-32,  1.00000000e+00]]))\n",
      "(array([-0.,  0.]), array([[0.74454991, 0.39854844],\n",
      "       [0.39854844, 4.13678291]]))\n",
      "(array([-0.,  0.]), array([[ 1.0000000e+00, -7.1403887e-33],\n",
      "       [-7.1403887e-33,  1.0000000e+00]]))\n",
      "(array([-0.,  0.]), array([[1.0000000e+00, 7.1403887e-33],\n",
      "       [7.1403887e-33, 1.0000000e+00]]))\n",
      "(array([-0.,  0.]), array([[ 1.0000000e+00, -7.1403887e-33],\n",
      "       [-7.1403887e-33,  1.0000000e+00]]))\n",
      "(array([-0.,  0.]), array([[1.0000000e+00, 7.1403887e-33],\n",
      "       [7.1403887e-33, 1.0000000e+00]]))\n",
      "(array([-0.,  0.]), array([[ 1.0000000e+00, -7.1403887e-33],\n",
      "       [-7.1403887e-33,  1.0000000e+00]]))\n",
      "(array([-0.,  0.]), array([[ 2.94357158, -1.6681542 ],\n",
      "       [-1.6681542 ,  1.93776123]]))\n",
      "(array([-0.,  0.]), array([[1., 0.],\n",
      "       [0., 1.]]))\n",
      "(array([-0.,  0.]), array([[1., 0.],\n",
      "       [0., 1.]]))\n"
     ]
    }
   ],
   "source": [
    "[print(state.reduced_gaussian(i)) for i in range(modes)];"
   ]
  },
  {
   "cell_type": "code",
   "execution_count": 844,
   "id": "45c51865-0c44-473b-a6a8-21c62c575373",
   "metadata": {},
   "outputs": [],
   "source": [
    "reduced_state=state.reduced_gaussian([0,1,7,13,19])\n",
    "from thewalrus.quantum import state_vector, density_matrix\n",
    "mu0=reduced_state[0]\n",
    "cov0=reduced_state[1]\n",
    "low_cutoff=3\n",
    "rho0 = density_matrix(mu0, cov0, normalize=False, cutoff=low_cutoff)"
   ]
  },
  {
   "cell_type": "code",
   "execution_count": 845,
   "id": "42f03f44-47a9-47ff-a5d6-bb0f4a7b6cea",
   "metadata": {},
   "outputs": [
    {
     "data": {
      "text/plain": [
       "(-1.6410875180603977e-17-4.918832621120768e-19j)"
      ]
     },
     "execution_count": 845,
     "metadata": {},
     "output_type": "execute_result"
    }
   ],
   "source": [
    "rho0[2,2,1,1,0,0,1,1,1,1]"
   ]
  },
  {
   "cell_type": "code",
   "execution_count": 846,
   "id": "d9b1ab8b-eae0-4ecf-be8f-a3122a6ed40f",
   "metadata": {},
   "outputs": [
    {
     "name": "stdout",
     "output_type": "stream",
     "text": [
      "[6.883809337848093e-11, 0.0, 0.006316268412072775]\n",
      "[(6.883809337848096e-11-1.337784365707803e-26j), (-1.6410875180603977e-17-4.918832621120768e-19j), (0.006316268412072775-1.3296026854991968e-18j)]\n",
      "[(-1.5289514187129398e-26-1.6310373250920497e-26j), (-2.011625446153236e-31-7.597698597305409e-33j), (7.743580279262073e-17+6.072802325978316e-19j)]\n",
      "[(6.883809337874366e-11-2.4062954575504706e-26j), (-1.6409605221499747e-17-4.914907968962144e-19j), (0.0063162684120727786-4.5686354717314465e-19j)]\n"
     ]
    }
   ],
   "source": [
    "# Finally, postselect on mode 19 having a 1, mode 13 having a 1, mode 7 having a 0. Already said to postselect on n=2 in mode 0. \n",
    "# amplified state is in mode 1, so we will look at the (conditional) photon-number distribution there\n",
    "max_photon_out = low_cutoff\n",
    "amplified_probs = [0. for i in range(max_photon_out)]\n",
    "for j in range(max_photon_out):\n",
    "    locations = [2,j,0,0,0,0,0,0,0,0,0,0,0,1,0,0,0,0,0,1,0,0,0,0,0,0,0,0,0,0] #Since we expect no population to go to the other modes, we can postselect on them being 0\n",
    "    amplified_probs[j] = state.fock_prob(locations[0:modes],cutoff=100) \n",
    "# Can use any of the options 011, 110, 101 for the modes 7,13,19 since we aren't measuring the phase\n",
    "amplified_probs1 = [0. for i in range(max_photon_out)]\n",
    "for j in range(max_photon_out):\n",
    "    amplified_probs1[j] = rho0[2,2,j,j,0,0,1,1,1,1] # This explicitly finds the reduced density matrix first and then calculates the probabilities, in case other modes had nonzero photons\n",
    "amplified_probs2 = [0. for i in range(max_photon_out)]\n",
    "for j in range(max_photon_out):\n",
    "    amplified_probs2[j] = rho0[2,2,j,j,1,1,1,1,1,1] # This explicitly finds the reduced density matrix first and then calculates the probabilities, in case other modes had nonzero photons\n",
    "amplified_probs3 = [0. for i in range(max_photon_out)]\n",
    "for j in range(max_photon_out):\n",
    "    amplified_probs3[j] = rho0[2,2,j,j,1,1,0,0,1,1] # This explicitly finds the reduced density matrix first and then calculates the probabilities, in case other modes had nonzero photons\n",
    "print(amplified_probs)\n",
    "print(amplified_probs1)\n",
    "print(amplified_probs2)\n",
    "print(amplified_probs3)"
   ]
  },
  {
   "cell_type": "code",
   "execution_count": 847,
   "id": "02cb1e95-7e30-4cf4-98c1-d93c166bef0c",
   "metadata": {},
   "outputs": [
    {
     "name": "stdout",
     "output_type": "stream",
     "text": [
      "[1.08985382e-08 0.00000000e+00 9.99999989e-01]\n",
      "[ 1.0000000e-08-0.j -0.0000000e+00-0.j  9.9999999e-01+0.j]\n"
     ]
    }
   ],
   "source": [
    "print(amplified_probs/np.sum(amplified_probs))\n",
    "print((amplified_probs3/np.sum(amplified_probs3)).round(8)) # Same results"
   ]
  },
  {
   "cell_type": "code",
   "execution_count": 848,
   "id": "ac942df9-6d32-4ba6-8e0d-e3b4130956e6",
   "metadata": {},
   "outputs": [
    {
     "name": "stdout",
     "output_type": "stream",
     "text": [
      "coefficients squared of 0 and 2 expected to be [1.08985382e-08 9.99999989e-01]\n",
      "coefficients squared of 0 and 2 expected to be [1.08985382e-08 9.99999989e-01]\n",
      "original coefficients of 0 and 2 proportional to [1, 0.5846499714022251]\n"
     ]
    }
   ],
   "source": [
    "expected_probs = [gain**(2*2*i) *np.tanh(device.certificate[\"squeezing_parameters_mean\"][squeeze_level])**(2*i)*np.math.factorial(2*i)\n",
    "                  /2**(2*i)/np.math.factorial(i)**2/np.cosh(device.certificate[\"squeezing_parameters_mean\"][squeeze_level]) \n",
    "                  for i in range(2)]\n",
    "expected_probs=expected_probs/np.sum(expected_probs)\n",
    "print(\"coefficients squared of 0 and 2 expected to be\",expected_probs)\n",
    "print(\"coefficients squared of 0 and 2 expected to be\",[1, np.tanh(device.certificate[\"squeezing_parameters_mean\"][squeeze_level])**2 * gain**(4)/2]/np.sum([1, np.tanh(device.certificate[\"squeezing_parameters_mean\"][squeeze_level])**2 * gain**4/2]))\n",
    "print(\"original coefficients of 0 and 2 proportional to\",[1, np.tanh(device.certificate[\"squeezing_parameters_mean\"][squeeze_level])*np.sqrt(2.)/2])"
   ]
  },
  {
   "cell_type": "code",
   "execution_count": 849,
   "id": "3a9de7ec-0bba-4715-a4e1-b0d82887f2a9",
   "metadata": {},
   "outputs": [
    {
     "name": "stdout",
     "output_type": "stream",
     "text": [
      "If we did 10^6 shots, we'd get this many counts each  [6.88380934e-05 0.00000000e+00 6.31626841e+03]\n"
     ]
    }
   ],
   "source": [
    "print(\"If we did 10^6 shots, we'd get this many counts each \",np.array(amplified_probs)*10**6)"
   ]
  },
  {
   "cell_type": "code",
   "execution_count": 850,
   "id": "594daf11-6fde-4edd-b901-f1c1d794496d",
   "metadata": {},
   "outputs": [
    {
     "name": "stdout",
     "output_type": "stream",
     "text": [
      "If we did 10^6 shots with realistic loss, we'd get this many counts each  [6.88380934e-05 0.00000000e+00 6.31626841e+03]\n"
     ]
    }
   ],
   "source": [
    "print(\"If we did 10^6 shots with realistic loss, we'd get this many counts each \",np.array(amplified_probs)*10**6)"
   ]
  },
  {
   "cell_type": "code",
   "execution_count": 839,
   "id": "fc41c62f-de1e-4807-91d9-d329208c8137",
   "metadata": {},
   "outputs": [
    {
     "data": {
      "text/plain": [
       "\"\\nTry keeping high squeezing and realistic loss. \\ngain=0.5:\\nIf we did 10^6 shots, we'd get this many counts each  [1500.97275333  330.80267081   40.69541463]\\ngain=1.0:\\nIf we did 10^6 shots, we'd get this many counts each  [609.01194959 331.33865256  99.82766589]\\ngain=2.0:\\nIf we did 10^6 shots, we'd get this many counts each  [144.28171331 123.35024494  56.72674886]\\ngain=4.0:\\nIf we did 10^6 shots, we'd get this many counts each  [49.9175033  49.58047001 24.97119894]\\ngain=8.0:\\nIf we did 10^6 shots, we'd get this many counts each  [35.11835823 36.43712781 18.53805078]\\n\""
      ]
     },
     "execution_count": 839,
     "metadata": {},
     "output_type": "execute_result"
    }
   ],
   "source": [
    "\"\"\"\n",
    "Try keeping high squeezing and realistic loss. \n",
    "gain=0.5:\n",
    "If we did 10^6 shots, we'd get this many counts each  [1500.97275333  330.80267081   40.69541463]\n",
    "gain=1.0:\n",
    "If we did 10^6 shots, we'd get this many counts each  [609.01194959 331.33865256  99.82766589]\n",
    "gain=2.0:\n",
    "If we did 10^6 shots, we'd get this many counts each  [144.28171331 123.35024494  56.72674886]\n",
    "gain=4.0:\n",
    "If we did 10^6 shots, we'd get this many counts each  [49.9175033  49.58047001 24.97119894]\n",
    "gain=8.0:\n",
    "If we did 10^6 shots, we'd get this many counts each  [35.11835823 36.43712781 18.53805078]\n",
    "gain=128.0:\n",
    "If we did 10^6 shots, we'd get this many counts each  [31.41969676 33.1295807  16.92692573]\n",
    "\"\"\""
   ]
  },
  {
   "cell_type": "code",
   "execution_count": 840,
   "id": "1e93191a-4ae7-4ff5-a840-c2a4021d76f4",
   "metadata": {},
   "outputs": [
    {
     "data": {
      "text/plain": [
       "\"for gain of 2\\nIf we did 10^6 shots on low without realistic loss, we'd get this many counts each  [ 613.86270014    0.         1831.4038439 ]\\nIf we did 10^6 shots on medium without realistic loss, we'd get this many counts each  [ 814.29466275    0.         3740.82580494]\\nIf we did 10^6 shots on high without realistic loss, we'd get this many counts each  [ 739.23362967    0.         4042.90525726]\\n\\nIf we did 10^6 shots on low with realistic loss, we'd get this many counts each  [11.01867203  4.86578831  1.0675028 ]\\nIf we did 10^6 shots on medium with realistic loss, we'd get this many counts each  [63.32142567 43.90530077 15.9632532 ]\\nIf we did 10^6 shots on high with realistic loss, we'd get this many counts each  [144.28171331 123.35024494  56.72674886]\\n\""
      ]
     },
     "execution_count": 840,
     "metadata": {},
     "output_type": "execute_result"
    }
   ],
   "source": [
    "\"\"\"for gain of 2\n",
    "If we did 10^6 shots on low without realistic loss, we'd get this many counts each  [ 613.86270014    0.         1831.4038439 ]\n",
    "If we did 10^6 shots on medium without realistic loss, we'd get this many counts each  [ 814.29466275    0.         3740.82580494]\n",
    "If we did 10^6 shots on high without realistic loss, we'd get this many counts each  [ 739.23362967    0.         4042.90525726]\n",
    "\n",
    "If we did 10^6 shots on low with realistic loss, we'd get this many counts each  [11.01867203  4.86578831  1.0675028 ]\n",
    "If we did 10^6 shots on medium with realistic loss, we'd get this many counts each  [63.32142567 43.90530077 15.9632532 ]\n",
    "If we did 10^6 shots on high with realistic loss, we'd get this many counts each  [144.28171331 123.35024494  56.72674886]\n",
    "\"\"\""
   ]
  }
 ],
 "metadata": {
  "kernelspec": {
   "display_name": "PennyLane",
   "language": "python",
   "name": "pennylane"
  },
  "language_info": {
   "codemirror_mode": {
    "name": "ipython",
    "version": 3
   },
   "file_extension": ".py",
   "mimetype": "text/x-python",
   "name": "python",
   "nbconvert_exporter": "python",
   "pygments_lexer": "ipython3",
   "version": "3.9.15"
  }
 },
 "nbformat": 4,
 "nbformat_minor": 5
}
